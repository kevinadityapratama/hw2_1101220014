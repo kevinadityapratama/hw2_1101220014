{
 "cells": [
  {
   "cell_type": "markdown",
   "id": "9d81c024-438d-4038-b475-565579ca5712",
   "metadata": {},
   "source": [
    "Name : Kevin Aditya Pratama Student ID : 1101220014"
   ]
  },
  {
   "cell_type": "code",
   "execution_count": 5,
   "id": "017cdb6c-e2c2-40b1-ac91-46890b1b07b3",
   "metadata": {},
   "outputs": [],
   "source": [
    "import pandas as pd\n",
    "import numpy as np\n",
    "import seaborn as sns                       \n",
    "import matplotlib.pyplot as plt"
   ]
  },
  {
   "cell_type": "markdown",
   "id": "f72547dc-f7b3-4f82-9d44-6b2281500732",
   "metadata": {},
   "source": [
    "Memasukkan data csv"
   ]
  },
  {
   "cell_type": "code",
   "execution_count": 35,
   "id": "5c9275f4-71ed-4908-8ad7-3118f1756fc7",
   "metadata": {},
   "outputs": [],
   "source": [
    "zh = pd.read_csv(\"motor_data.csv\")"
   ]
  },
  {
   "cell_type": "markdown",
   "id": "b1e88fa9-09f2-4fa1-95c1-d7491815dedf",
   "metadata": {},
   "source": [
    "Tampilkan 6 data teratas"
   ]
  },
  {
   "cell_type": "code",
   "execution_count": 37,
   "id": "49768c2a-049f-485c-9458-63b71443295a",
   "metadata": {},
   "outputs": [
    {
     "data": {
      "text/html": [
       "<div>\n",
       "<style scoped>\n",
       "    .dataframe tbody tr th:only-of-type {\n",
       "        vertical-align: middle;\n",
       "    }\n",
       "\n",
       "    .dataframe tbody tr th {\n",
       "        vertical-align: top;\n",
       "    }\n",
       "\n",
       "    .dataframe thead th {\n",
       "        text-align: right;\n",
       "    }\n",
       "</style>\n",
       "<table border=\"1\" class=\"dataframe\">\n",
       "  <thead>\n",
       "    <tr style=\"text-align: right;\">\n",
       "      <th></th>\n",
       "      <th>Handle</th>\n",
       "      <th>Title</th>\n",
       "      <th>Price</th>\n",
       "      <th>Launch Year</th>\n",
       "      <th>Tags</th>\n",
       "      <th>Engine Capacity</th>\n",
       "      <th>Fuel Type</th>\n",
       "      <th>Color Options</th>\n",
       "      <th>Top Speed</th>\n",
       "      <th>Horsepower</th>\n",
       "      <th>Country of Origin</th>\n",
       "    </tr>\n",
       "  </thead>\n",
       "  <tbody>\n",
       "    <tr>\n",
       "      <th>0</th>\n",
       "      <td>yamaha-brand</td>\n",
       "      <td>Yamaha</td>\n",
       "      <td>15000</td>\n",
       "      <td>2023</td>\n",
       "      <td>sport</td>\n",
       "      <td>600cc</td>\n",
       "      <td>Petrol</td>\n",
       "      <td>Blue, Red</td>\n",
       "      <td>220</td>\n",
       "      <td>100</td>\n",
       "      <td>Japan</td>\n",
       "    </tr>\n",
       "    <tr>\n",
       "      <th>1</th>\n",
       "      <td>honda-brand</td>\n",
       "      <td>Honda</td>\n",
       "      <td>14000</td>\n",
       "      <td>2022</td>\n",
       "      <td>sport</td>\n",
       "      <td>500cc</td>\n",
       "      <td>Petrol</td>\n",
       "      <td>Black, White</td>\n",
       "      <td>200</td>\n",
       "      <td>90</td>\n",
       "      <td>Japan</td>\n",
       "    </tr>\n",
       "    <tr>\n",
       "      <th>2</th>\n",
       "      <td>suzuki-brand</td>\n",
       "      <td>Suzuki</td>\n",
       "      <td>13000</td>\n",
       "      <td>2021</td>\n",
       "      <td>sport</td>\n",
       "      <td>650cc</td>\n",
       "      <td>Petrol</td>\n",
       "      <td>Silver, Green</td>\n",
       "      <td>210</td>\n",
       "      <td>95</td>\n",
       "      <td>Japan</td>\n",
       "    </tr>\n",
       "    <tr>\n",
       "      <th>3</th>\n",
       "      <td>kawasaki-brand</td>\n",
       "      <td>Kawasaki</td>\n",
       "      <td>18000</td>\n",
       "      <td>2022</td>\n",
       "      <td>sport</td>\n",
       "      <td>1000cc</td>\n",
       "      <td>Petrol</td>\n",
       "      <td>Black, Green</td>\n",
       "      <td>250</td>\n",
       "      <td>150</td>\n",
       "      <td>Japan</td>\n",
       "    </tr>\n",
       "    <tr>\n",
       "      <th>4</th>\n",
       "      <td>ducati-brand</td>\n",
       "      <td>Ducati</td>\n",
       "      <td>22000</td>\n",
       "      <td>2023</td>\n",
       "      <td>premium</td>\n",
       "      <td>1200cc</td>\n",
       "      <td>Petrol</td>\n",
       "      <td>Red, Black</td>\n",
       "      <td>280</td>\n",
       "      <td>170</td>\n",
       "      <td>Italy</td>\n",
       "    </tr>\n",
       "    <tr>\n",
       "      <th>5</th>\n",
       "      <td>honda-brand</td>\n",
       "      <td>Honda</td>\n",
       "      <td>14500</td>\n",
       "      <td>2021</td>\n",
       "      <td>sport</td>\n",
       "      <td>500cc</td>\n",
       "      <td>Petrol</td>\n",
       "      <td>Black, Yellow</td>\n",
       "      <td>200</td>\n",
       "      <td>95</td>\n",
       "      <td>Japan</td>\n",
       "    </tr>\n",
       "  </tbody>\n",
       "</table>\n",
       "</div>"
      ],
      "text/plain": [
       "           Handle     Title  Price  Launch Year     Tags Engine Capacity  \\\n",
       "0    yamaha-brand    Yamaha  15000         2023    sport           600cc   \n",
       "1     honda-brand     Honda  14000         2022    sport           500cc   \n",
       "2    suzuki-brand    Suzuki  13000         2021    sport           650cc   \n",
       "3  kawasaki-brand  Kawasaki  18000         2022    sport          1000cc   \n",
       "4    ducati-brand    Ducati  22000         2023  premium          1200cc   \n",
       "5     honda-brand     Honda  14500         2021    sport           500cc   \n",
       "\n",
       "  Fuel Type  Color Options  Top Speed  Horsepower Country of Origin  \n",
       "0    Petrol      Blue, Red        220         100             Japan  \n",
       "1    Petrol   Black, White        200          90             Japan  \n",
       "2    Petrol  Silver, Green        210          95             Japan  \n",
       "3    Petrol   Black, Green        250         150             Japan  \n",
       "4    Petrol     Red, Black        280         170             Italy  \n",
       "5    Petrol  Black, Yellow        200          95             Japan  "
      ]
     },
     "execution_count": 37,
     "metadata": {},
     "output_type": "execute_result"
    }
   ],
   "source": [
    "zh = pd.read_csv(\"motor_data.csv\")"
   ]
  },
  {
   "cell_type": "markdown",
   "id": "80f9a51c-32b9-4cab-a5a5-1690dea20c8e",
   "metadata": {},
   "source": [
    "Tampilkan 4 data terbawah"
   ]
  },
  {
   "cell_type": "code",
   "execution_count": 39,
   "id": "fd4cdf91-b037-44a2-af6e-981af25e2d92",
   "metadata": {},
   "outputs": [
    {
     "data": {
      "text/html": [
       "<div>\n",
       "<style scoped>\n",
       "    .dataframe tbody tr th:only-of-type {\n",
       "        vertical-align: middle;\n",
       "    }\n",
       "\n",
       "    .dataframe tbody tr th {\n",
       "        vertical-align: top;\n",
       "    }\n",
       "\n",
       "    .dataframe thead th {\n",
       "        text-align: right;\n",
       "    }\n",
       "</style>\n",
       "<table border=\"1\" class=\"dataframe\">\n",
       "  <thead>\n",
       "    <tr style=\"text-align: right;\">\n",
       "      <th></th>\n",
       "      <th>Handle</th>\n",
       "      <th>Title</th>\n",
       "      <th>Price</th>\n",
       "      <th>Launch Year</th>\n",
       "      <th>Tags</th>\n",
       "      <th>Engine Capacity</th>\n",
       "      <th>Fuel Type</th>\n",
       "      <th>Color Options</th>\n",
       "      <th>Top Speed</th>\n",
       "      <th>Horsepower</th>\n",
       "      <th>Country of Origin</th>\n",
       "    </tr>\n",
       "  </thead>\n",
       "  <tbody>\n",
       "    <tr>\n",
       "      <th>21</th>\n",
       "      <td>honda-brand</td>\n",
       "      <td>Honda Shadow</td>\n",
       "      <td>14000</td>\n",
       "      <td>2020</td>\n",
       "      <td>cruiser</td>\n",
       "      <td>750cc</td>\n",
       "      <td>Petrol</td>\n",
       "      <td>Black, Silver</td>\n",
       "      <td>160</td>\n",
       "      <td>80</td>\n",
       "      <td>Japan</td>\n",
       "    </tr>\n",
       "    <tr>\n",
       "      <th>22</th>\n",
       "      <td>suzuki-brand</td>\n",
       "      <td>Suzuki Intruder</td>\n",
       "      <td>16000</td>\n",
       "      <td>2022</td>\n",
       "      <td>cruiser</td>\n",
       "      <td>800cc</td>\n",
       "      <td>Petrol</td>\n",
       "      <td>Black, Red</td>\n",
       "      <td>180</td>\n",
       "      <td>95</td>\n",
       "      <td>Japan</td>\n",
       "    </tr>\n",
       "    <tr>\n",
       "      <th>23</th>\n",
       "      <td>kawasaki-brand</td>\n",
       "      <td>Kawasaki Ninja 400</td>\n",
       "      <td>12000</td>\n",
       "      <td>2021</td>\n",
       "      <td>sport</td>\n",
       "      <td>400cc</td>\n",
       "      <td>Petrol</td>\n",
       "      <td>Green, Black</td>\n",
       "      <td>180</td>\n",
       "      <td>50</td>\n",
       "      <td>Japan</td>\n",
       "    </tr>\n",
       "    <tr>\n",
       "      <th>24</th>\n",
       "      <td>ducati-brand</td>\n",
       "      <td>Ducati Panigale V2</td>\n",
       "      <td>25000</td>\n",
       "      <td>2023</td>\n",
       "      <td>sport</td>\n",
       "      <td>950cc</td>\n",
       "      <td>Petrol</td>\n",
       "      <td>Red, White</td>\n",
       "      <td>270</td>\n",
       "      <td>150</td>\n",
       "      <td>Italy</td>\n",
       "    </tr>\n",
       "  </tbody>\n",
       "</table>\n",
       "</div>"
      ],
      "text/plain": [
       "            Handle               Title  Price  Launch Year     Tags  \\\n",
       "21     honda-brand        Honda Shadow  14000         2020  cruiser   \n",
       "22    suzuki-brand     Suzuki Intruder  16000         2022  cruiser   \n",
       "23  kawasaki-brand  Kawasaki Ninja 400  12000         2021    sport   \n",
       "24    ducati-brand  Ducati Panigale V2  25000         2023    sport   \n",
       "\n",
       "   Engine Capacity Fuel Type  Color Options  Top Speed  Horsepower  \\\n",
       "21           750cc    Petrol  Black, Silver        160          80   \n",
       "22           800cc    Petrol     Black, Red        180          95   \n",
       "23           400cc    Petrol   Green, Black        180          50   \n",
       "24           950cc    Petrol     Red, White        270         150   \n",
       "\n",
       "   Country of Origin  \n",
       "21             Japan  \n",
       "22             Japan  \n",
       "23             Japan  \n",
       "24             Italy  "
      ]
     },
     "execution_count": 39,
     "metadata": {},
     "output_type": "execute_result"
    }
   ],
   "source": [
    "zh.tail(4)"
   ]
  },
  {
   "cell_type": "markdown",
   "id": "09681aa4-817e-4455-9d3d-c64fdd5d28d5",
   "metadata": {},
   "source": [
    "Melihat tipe data"
   ]
  },
  {
   "cell_type": "code",
   "execution_count": 41,
   "id": "5c214cbf-d5ff-4648-a05d-23df19bfe4bb",
   "metadata": {},
   "outputs": [
    {
     "data": {
      "text/plain": [
       "Handle               object\n",
       "Title                object\n",
       "Price                 int64\n",
       "Launch Year           int64\n",
       "Tags                 object\n",
       "Engine Capacity      object\n",
       "Fuel Type            object\n",
       "Color Options        object\n",
       "Top Speed             int64\n",
       "Horsepower            int64\n",
       "Country of Origin    object\n",
       "dtype: object"
      ]
     },
     "execution_count": 41,
     "metadata": {},
     "output_type": "execute_result"
    }
   ],
   "source": [
    "zh.dtypes"
   ]
  },
  {
   "cell_type": "markdown",
   "id": "a12e7fa8-f1e9-4d5d-83e6-d87a5d5df3c9",
   "metadata": {},
   "source": [
    "Menghapus kolom yang tidak perlu"
   ]
  },
  {
   "cell_type": "code",
   "execution_count": 45,
   "id": "b43657ee-8f16-47fc-8d9f-ddf51e799db3",
   "metadata": {},
   "outputs": [
    {
     "data": {
      "text/html": [
       "<div>\n",
       "<style scoped>\n",
       "    .dataframe tbody tr th:only-of-type {\n",
       "        vertical-align: middle;\n",
       "    }\n",
       "\n",
       "    .dataframe tbody tr th {\n",
       "        vertical-align: top;\n",
       "    }\n",
       "\n",
       "    .dataframe thead th {\n",
       "        text-align: right;\n",
       "    }\n",
       "</style>\n",
       "<table border=\"1\" class=\"dataframe\">\n",
       "  <thead>\n",
       "    <tr style=\"text-align: right;\">\n",
       "      <th></th>\n",
       "      <th>Title</th>\n",
       "      <th>Price</th>\n",
       "      <th>Engine Capacity</th>\n",
       "      <th>Fuel Type</th>\n",
       "      <th>Top Speed</th>\n",
       "      <th>Horsepower</th>\n",
       "      <th>Country of Origin</th>\n",
       "    </tr>\n",
       "  </thead>\n",
       "  <tbody>\n",
       "    <tr>\n",
       "      <th>0</th>\n",
       "      <td>Yamaha</td>\n",
       "      <td>15000</td>\n",
       "      <td>600cc</td>\n",
       "      <td>Petrol</td>\n",
       "      <td>220</td>\n",
       "      <td>100</td>\n",
       "      <td>Japan</td>\n",
       "    </tr>\n",
       "    <tr>\n",
       "      <th>1</th>\n",
       "      <td>Honda</td>\n",
       "      <td>14000</td>\n",
       "      <td>500cc</td>\n",
       "      <td>Petrol</td>\n",
       "      <td>200</td>\n",
       "      <td>90</td>\n",
       "      <td>Japan</td>\n",
       "    </tr>\n",
       "    <tr>\n",
       "      <th>2</th>\n",
       "      <td>Suzuki</td>\n",
       "      <td>13000</td>\n",
       "      <td>650cc</td>\n",
       "      <td>Petrol</td>\n",
       "      <td>210</td>\n",
       "      <td>95</td>\n",
       "      <td>Japan</td>\n",
       "    </tr>\n",
       "    <tr>\n",
       "      <th>3</th>\n",
       "      <td>Kawasaki</td>\n",
       "      <td>18000</td>\n",
       "      <td>1000cc</td>\n",
       "      <td>Petrol</td>\n",
       "      <td>250</td>\n",
       "      <td>150</td>\n",
       "      <td>Japan</td>\n",
       "    </tr>\n",
       "    <tr>\n",
       "      <th>4</th>\n",
       "      <td>Ducati</td>\n",
       "      <td>22000</td>\n",
       "      <td>1200cc</td>\n",
       "      <td>Petrol</td>\n",
       "      <td>280</td>\n",
       "      <td>170</td>\n",
       "      <td>Italy</td>\n",
       "    </tr>\n",
       "    <tr>\n",
       "      <th>5</th>\n",
       "      <td>Honda</td>\n",
       "      <td>14500</td>\n",
       "      <td>500cc</td>\n",
       "      <td>Petrol</td>\n",
       "      <td>200</td>\n",
       "      <td>95</td>\n",
       "      <td>Japan</td>\n",
       "    </tr>\n",
       "  </tbody>\n",
       "</table>\n",
       "</div>"
      ],
      "text/plain": [
       "      Title  Price Engine Capacity Fuel Type  Top Speed  Horsepower  \\\n",
       "0    Yamaha  15000           600cc    Petrol        220         100   \n",
       "1     Honda  14000           500cc    Petrol        200          90   \n",
       "2    Suzuki  13000           650cc    Petrol        210          95   \n",
       "3  Kawasaki  18000          1000cc    Petrol        250         150   \n",
       "4    Ducati  22000          1200cc    Petrol        280         170   \n",
       "5     Honda  14500           500cc    Petrol        200          95   \n",
       "\n",
       "  Country of Origin  \n",
       "0             Japan  \n",
       "1             Japan  \n",
       "2             Japan  \n",
       "3             Japan  \n",
       "4             Italy  \n",
       "5             Japan  "
      ]
     },
     "execution_count": 45,
     "metadata": {},
     "output_type": "execute_result"
    }
   ],
   "source": [
    "zh = zh.drop(['Handle','Color Options','Tags','Launch Year'], axis=1)\n",
    "zh.head(6)"
   ]
  },
  {
   "cell_type": "markdown",
   "id": "60cc5654-c9c3-415a-ab74-be3b831b11e0",
   "metadata": {},
   "source": [
    "Ganti nama kolom"
   ]
  },
  {
   "cell_type": "code",
   "execution_count": 49,
   "id": "06d2e94f-74d5-4526-8da7-f1cc4dbe32b9",
   "metadata": {},
   "outputs": [
    {
     "data": {
      "text/html": [
       "<div>\n",
       "<style scoped>\n",
       "    .dataframe tbody tr th:only-of-type {\n",
       "        vertical-align: middle;\n",
       "    }\n",
       "\n",
       "    .dataframe tbody tr th {\n",
       "        vertical-align: top;\n",
       "    }\n",
       "\n",
       "    .dataframe thead th {\n",
       "        text-align: right;\n",
       "    }\n",
       "</style>\n",
       "<table border=\"1\" class=\"dataframe\">\n",
       "  <thead>\n",
       "    <tr style=\"text-align: right;\">\n",
       "      <th></th>\n",
       "      <th>Merek</th>\n",
       "      <th>Harga</th>\n",
       "      <th>Kapasitas Mesin</th>\n",
       "      <th>Fuel Type</th>\n",
       "      <th>Top Speed</th>\n",
       "      <th>Horsepower</th>\n",
       "      <th>Country of Origin</th>\n",
       "    </tr>\n",
       "  </thead>\n",
       "  <tbody>\n",
       "    <tr>\n",
       "      <th>0</th>\n",
       "      <td>Yamaha</td>\n",
       "      <td>15000</td>\n",
       "      <td>600cc</td>\n",
       "      <td>Petrol</td>\n",
       "      <td>220</td>\n",
       "      <td>100</td>\n",
       "      <td>Japan</td>\n",
       "    </tr>\n",
       "    <tr>\n",
       "      <th>1</th>\n",
       "      <td>Honda</td>\n",
       "      <td>14000</td>\n",
       "      <td>500cc</td>\n",
       "      <td>Petrol</td>\n",
       "      <td>200</td>\n",
       "      <td>90</td>\n",
       "      <td>Japan</td>\n",
       "    </tr>\n",
       "    <tr>\n",
       "      <th>2</th>\n",
       "      <td>Suzuki</td>\n",
       "      <td>13000</td>\n",
       "      <td>650cc</td>\n",
       "      <td>Petrol</td>\n",
       "      <td>210</td>\n",
       "      <td>95</td>\n",
       "      <td>Japan</td>\n",
       "    </tr>\n",
       "    <tr>\n",
       "      <th>3</th>\n",
       "      <td>Kawasaki</td>\n",
       "      <td>18000</td>\n",
       "      <td>1000cc</td>\n",
       "      <td>Petrol</td>\n",
       "      <td>250</td>\n",
       "      <td>150</td>\n",
       "      <td>Japan</td>\n",
       "    </tr>\n",
       "    <tr>\n",
       "      <th>4</th>\n",
       "      <td>Ducati</td>\n",
       "      <td>22000</td>\n",
       "      <td>1200cc</td>\n",
       "      <td>Petrol</td>\n",
       "      <td>280</td>\n",
       "      <td>170</td>\n",
       "      <td>Italy</td>\n",
       "    </tr>\n",
       "    <tr>\n",
       "      <th>5</th>\n",
       "      <td>Honda</td>\n",
       "      <td>14500</td>\n",
       "      <td>500cc</td>\n",
       "      <td>Petrol</td>\n",
       "      <td>200</td>\n",
       "      <td>95</td>\n",
       "      <td>Japan</td>\n",
       "    </tr>\n",
       "  </tbody>\n",
       "</table>\n",
       "</div>"
      ],
      "text/plain": [
       "      Merek  Harga Kapasitas Mesin Fuel Type  Top Speed  Horsepower  \\\n",
       "0    Yamaha  15000           600cc    Petrol        220         100   \n",
       "1     Honda  14000           500cc    Petrol        200          90   \n",
       "2    Suzuki  13000           650cc    Petrol        210          95   \n",
       "3  Kawasaki  18000          1000cc    Petrol        250         150   \n",
       "4    Ducati  22000          1200cc    Petrol        280         170   \n",
       "5     Honda  14500           500cc    Petrol        200          95   \n",
       "\n",
       "  Country of Origin  \n",
       "0             Japan  \n",
       "1             Japan  \n",
       "2             Japan  \n",
       "3             Japan  \n",
       "4             Italy  \n",
       "5             Japan  "
      ]
     },
     "execution_count": 49,
     "metadata": {},
     "output_type": "execute_result"
    }
   ],
   "source": [
    "zh = zh.rename(columns={\"Title\":\"Merek\",\"Price\":\"Harga\",\"Engine Capacity\":\"Kapasitas Mesin\"})\n",
    "zh.head(6)"
   ]
  },
  {
   "cell_type": "markdown",
   "id": "fe235ade-bc32-472e-bfe5-e41d6d29c57d",
   "metadata": {},
   "source": [
    "Mencari dan menunjukkan data terduplikat"
   ]
  },
  {
   "cell_type": "code",
   "execution_count": 51,
   "id": "3b79415e-3ceb-41e6-b635-04b2fb74c689",
   "metadata": {},
   "outputs": [
    {
     "name": "stdout",
     "output_type": "stream",
     "text": [
      "Duplicated Data: Empty DataFrame\n",
      "Columns: [Merek, Harga, Kapasitas Mesin, Fuel Type, Top Speed, Horsepower, Country of Origin]\n",
      "Index: []\n"
     ]
    }
   ],
   "source": [
    "duplicate_zh=zh[zh.duplicated()]\n",
    "print(\"Duplicated Data:\", duplicate_zh)"
   ]
  },
  {
   "cell_type": "markdown",
   "id": "cbf8c403-133c-4094-b042-01f5ae8973b0",
   "metadata": {},
   "source": [
    "Mengecek jumlah nilai hilang sebelum menghapus"
   ]
  },
  {
   "cell_type": "code",
   "execution_count": 53,
   "id": "cbc0f81a-4999-48d1-b4ab-194fc8c465d7",
   "metadata": {},
   "outputs": [
    {
     "name": "stdout",
     "output_type": "stream",
     "text": [
      "Merek                0\n",
      "Harga                0\n",
      "Kapasitas Mesin      0\n",
      "Fuel Type            0\n",
      "Top Speed            0\n",
      "Horsepower           0\n",
      "Country of Origin    0\n",
      "dtype: int64\n"
     ]
    }
   ],
   "source": [
    "print(zh.isnull().sum())"
   ]
  },
  {
   "cell_type": "markdown",
   "id": "07834b7e-d1c3-45ba-94b2-c77960cab3c8",
   "metadata": {},
   "source": [
    "Menghapus baris yang memiliki nilai hilang"
   ]
  },
  {
   "cell_type": "code",
   "execution_count": 57,
   "id": "41fc5e58-2910-4c1d-a715-4c215209f2cb",
   "metadata": {},
   "outputs": [],
   "source": [
    "zh = zh.dropna()"
   ]
  },
  {
   "cell_type": "markdown",
   "id": "45b9c52e-1306-42a9-bf6c-c6cfd6c0745b",
   "metadata": {},
   "source": [
    "Mengecek jumlah nilai non-null setelah menghapus"
   ]
  },
  {
   "cell_type": "code",
   "execution_count": 59,
   "id": "7ea815fb-60d3-4c42-93e7-b7fb0dd4ecc5",
   "metadata": {},
   "outputs": [
    {
     "name": "stdout",
     "output_type": "stream",
     "text": [
      "Merek                25\n",
      "Harga                25\n",
      "Kapasitas Mesin      25\n",
      "Fuel Type            25\n",
      "Top Speed            25\n",
      "Horsepower           25\n",
      "Country of Origin    25\n",
      "dtype: int64\n"
     ]
    }
   ],
   "source": [
    "print(zh.count())"
   ]
  },
  {
   "cell_type": "markdown",
   "id": "d420e1f6-db86-4930-a59c-c9b3bcd4c4dd",
   "metadata": {},
   "source": [
    "Memeriksa kembali apakah masih ada nilai hilang"
   ]
  },
  {
   "cell_type": "code",
   "execution_count": 61,
   "id": "35298226-5c05-45dc-924d-019dbaebf780",
   "metadata": {},
   "outputs": [
    {
     "name": "stdout",
     "output_type": "stream",
     "text": [
      "Merek                0\n",
      "Harga                0\n",
      "Kapasitas Mesin      0\n",
      "Fuel Type            0\n",
      "Top Speed            0\n",
      "Horsepower           0\n",
      "Country of Origin    0\n",
      "dtype: int64\n"
     ]
    }
   ],
   "source": [
    "print(zh.isnull().sum())"
   ]
  },
  {
   "cell_type": "markdown",
   "id": "06fa2202-3db3-4634-970d-b975680c8f9f",
   "metadata": {},
   "source": [
    "Deteksi Outlier dengan boxplot"
   ]
  },
  {
   "cell_type": "code",
   "execution_count": 65,
   "id": "07d577ad-5ef3-472d-8b8f-fb0eedba11ac",
   "metadata": {},
   "outputs": [
    {
     "data": {
      "image/png": "[encoded data removed]",
      "text/plain": [
       "<Figure size 640x480 with 1 Axes>"
      ]
     },
     "metadata": {},
     "output_type": "display_data"
    },
    {
     "data": {
      "image/png": "[encoded data removed]",
      "text/plain": [
       "<Figure size 640x480 with 1 Axes>"
      ]
     },
     "metadata": {},
     "output_type": "display_data"
    },
    {
     "data": {
      "image/png": "[encoded data removed]",
      "text/plain": [
       "<Figure size 640x480 with 1 Axes>"
      ]
     },
     "metadata": {},
     "output_type": "display_data"
    }
   ],
   "source": [
    "sns.boxplot(x=zh['Harga'])\n",
    "plt.title('Boxplot Harga Motor')\n",
    "plt.show()\n",
    "\n",
    "sns.boxplot(x=zh['Horsepower'])\n",
    "plt.title('Boxplot Horsepower Motor')\n",
    "plt.show()\n",
    "\n",
    "sns.boxplot(x=zh['Kapasitas Mesin']) \n",
    "plt.title('Boxplot Kapasitas Mesin')\n",
    "plt.show()"
   ]
  },
  {
   "cell_type": "markdown",
   "id": "5faf71fb-da81-4375-b364-7b8c21f22230",
   "metadata": {},
   "source": [
    "Pilih hanya kolom numerik dan Hitung Q1, Q3, dan IQR"
   ]
  },
  {
   "cell_type": "code",
   "execution_count": 71,
   "id": "c2531c2f-ac46-423a-9dbd-c32b3cc57be0",
   "metadata": {},
   "outputs": [],
   "source": [
    "zh_numeric = zh.select_dtypes(include=['number'])\n",
    "Q1 = zh_numeric.quantile(0.25)\n",
    "Q3 = zh_numeric.quantile(0.75)\n",
    "IQR = Q3 - Q1"
   ]
  },
  {
   "cell_type": "markdown",
   "id": "dcb65bea-3b44-48b6-ac47-f7e65a402d17",
   "metadata": {},
   "source": [
    "Buang outlier hanya pada kolom numerik"
   ]
  },
  {
   "cell_type": "code",
   "execution_count": 73,
   "id": "bf21ceab-ad12-4d94-82be-cce943f1b689",
   "metadata": {},
   "outputs": [
    {
     "name": "stdout",
     "output_type": "stream",
     "text": [
      "(22, 7)\n"
     ]
    }
   ],
   "source": [
    "zh_numeric_cleaned = zh_numeric[~((zh_numeric < (Q1 - 1.5 * IQR)) | \n",
    "(zh_numeric > (Q3 + 1.5 * IQR))).any(axis=1)]\n",
    "zh_cleaned = zh.loc[zh_numeric_cleaned.index]\n",
    "print(zh_cleaned.shape)"
   ]
  },
  {
   "cell_type": "markdown",
   "id": "90a77140-8ca0-41d3-8895-ace15437382b",
   "metadata": {},
   "source": [
    "Menampilkan jumlah motor berdasarkan Horsepower"
   ]
  },
  {
   "cell_type": "code",
   "execution_count": 83,
   "id": "6171bb48-f415-4fe3-a381-28983d91a3d3",
   "metadata": {},
   "outputs": [
    {
     "data": {
      "image/png": "[encoded data removed]",
      "text/plain": [
       "<Figure size 1000x500 with 1 Axes>"
      ]
     },
     "metadata": {},
     "output_type": "display_data"
    }
   ],
   "source": [
    "zh.Horsepower.value_counts().nlargest(40).plot(kind='bar', figsize=(10,5))\n",
    "plt.title(\"Jumlah motor berdasarkan Horsepower\")\n",
    "plt.ylabel('Jumlah motor')\n",
    "plt.xlabel('Horsepower')\n",
    "plt.show()"
   ]
  },
  {
   "cell_type": "markdown",
   "id": "72a88c51-1428-4fe3-b208-ea2258685a62",
   "metadata": {},
   "source": [
    "Memilih hanya kolom numerik sebelum menghitung korelasi"
   ]
  },
  {
   "cell_type": "code",
   "execution_count": 85,
   "id": "b28b9e2e-8b71-41fb-ba26-4f9e257139ac",
   "metadata": {},
   "outputs": [],
   "source": [
    "zh_numeric = zh.select_dtypes(include=['number'])"
   ]
  },
  {
   "cell_type": "markdown",
   "id": "275623ca-a4d2-4a74-9418-2ea68d84e5dc",
   "metadata": {},
   "source": [
    "Menghitung korelasi antar kolom numerik"
   ]
  },
  {
   "cell_type": "code",
   "execution_count": 87,
   "id": "f536e71b-5d26-4e67-94de-b21b2f8f5433",
   "metadata": {},
   "outputs": [],
   "source": [
    "c = zh_numeric.corr()"
   ]
  },
  {
   "cell_type": "markdown",
   "id": "8e6ea331-eb3d-48b1-abec-e38ce0b60146",
   "metadata": {},
   "source": [
    "Plot heatmap korelasi"
   ]
  },
  {
   "cell_type": "code",
   "execution_count": 89,
   "id": "82bb005b-2265-40ce-b9f4-36bc1f5c847d",
   "metadata": {},
   "outputs": [
    {
     "data": {
      "image/png": "[encoded data removed]",
      "text/plain": [
       "<Figure size 640x480 with 2 Axes>"
      ]
     },
     "metadata": {},
     "output_type": "display_data"
    }
   ],
   "source": [
    "sns.heatmap(c, cmap=\"BrBG\", annot=True)\n",
    "plt.title(\"Correlation Heatmap\")\n",
    "plt.show()"
   ]
  },
  {
   "cell_type": "markdown",
   "id": "70d473bd-a7f7-4c5a-be10-2db641a36e7a",
   "metadata": {},
   "source": [
    "Membuat scatter plot antara Horsepower dan Kapasitas Mesin"
   ]
  },
  {
   "cell_type": "code",
   "execution_count": 93,
   "id": "24d5e0d0-b175-4ba8-a750-81b2abfa598d",
   "metadata": {},
   "outputs": [
    {
     "data": {
      "image/png": "[encoded data removed]",
      "text/plain": [
       "<Figure size 1000x600 with 1 Axes>"
      ]
     },
     "metadata": {},
     "output_type": "display_data"
    }
   ],
   "source": [
    "fig, ax = plt.subplots(figsize=(10,6))\n",
    "ax.scatter(zh['Horsepower'], zh['Kapasitas Mesin'])\n",
    "ax.set_xlabel('Horsepower')\n",
    "ax.set_ylabel('Kapasitas Mesin')\n",
    "plt.title(\"Horsepower vs Kapasitas Mesin\")\n",
    "plt.show()"
   ]
  },
  {
   "cell_type": "code",
   "execution_count": null,
   "id": "c01e6d83-3758-42e7-9730-6a4608fdde73",
   "metadata": {},
   "outputs": [],
   "source": []
  }
 ],
 "metadata": {
  "kernelspec": {
   "display_name": "Python [conda env:base] *",
   "language": "python",
   "name": "conda-base-py"
  },
  "language_info": {
   "codemirror_mode": {
    "name": "ipython",
    "version": 3
   },
   "file_extension": ".py",
   "mimetype": "text/x-python",
   "name": "python",
   "nbconvert_exporter": "python",
   "pygments_lexer": "ipython3",
   "version": "3.12.7"
  }
 },
 "nbformat": 4,
 "nbformat_minor": 5
}
